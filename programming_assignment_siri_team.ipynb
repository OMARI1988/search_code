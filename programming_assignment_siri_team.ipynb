{
 "cells": [
  {
   "cell_type": "code",
   "execution_count": 110,
   "metadata": {},
   "outputs": [],
   "source": [
    "import numpy as np\n",
    "\n",
    "class Siri_Trie:\n",
    "    def __init__(self):\n",
    "        # the start of the Trie\n",
    "        self.head = {}\n",
    "        \n",
    "        # the maximum len of n_grams for your concepts (will be updated automatically)\n",
    "        self.n_gram = 1\n",
    "\n",
    "    ## This function adds new words to the dictionary\n",
    "    def add_concept(self, concept):\n",
    "        # clean the concept\n",
    "        concept = self._clean(concet)\n",
    "        concept = \" \".join(concept.split())\n",
    "        \n",
    "        # update the n_gram maximum len\n",
    "        if self.n_gram < len(concept.split()): \n",
    "            self.n_gram = len(concept.split())\n",
    "        \n",
    "        # loop through the characters in the concept\n",
    "        cur = self.head\n",
    "        for ch in concept:\n",
    "            if ch not in cur:   cur[ch] = {}\n",
    "            cur = cur[ch]\n",
    "        # I use the .. to indicate the end of a word at this character\n",
    "        # The use of a double dot (..) is based on the fact that we only use one char at a time\n",
    "        # so there can be no two dots, which prevents the mis-classification of the end of a word.\n",
    "        cur['..'] = True\n",
    "        \n",
    "    def _clearn():\n",
    "        \n",
    "\n",
    "    # This function searches the Trie for a given word\n",
    "    def search_n_gram(self, word):\n",
    "        cur = self.head\n",
    "        for ch in word:\n",
    "            if ch not in cur:\n",
    "                return False\n",
    "            cur = cur[ch]\n",
    "\n",
    "        if '..' in cur:\n",
    "            return True\n",
    "        else:\n",
    "            return False\n",
    "    \n",
    "    def search(self, sentence):\n",
    "        # clean sentence\n",
    "        sentence = \" \".join(sentence.split())\n",
    "        # create n_grams\n",
    "        tokens = sentence.split(' ')\n",
    "        n_grams = set([' '.join(tokens[i:i+j+1]) for j in range(np.min([self.n_gram, len(tokens)])) for i in range(len(tokens))])\n",
    "        # search every n-gram\n",
    "        concepts = [n_gram for n_gram in n_grams if self.search_n_gram(n_gram)]\n",
    "        return sorted(concepts)\n",
    "    \n",
    "    def save(self, dir_):\n",
    "        pass\n",
    "    \n",
    "    def load(self, dir_):\n",
    "        pass\n",
    "    \n",
    "        \n",
    "        "
   ]
  },
  {
   "cell_type": "code",
   "execution_count": 113,
   "metadata": {},
   "outputs": [
    {
     "name": "stdout",
     "output_type": "stream",
     "text": [
      "['hi']\n",
      "['hello sir', 'hi']\n",
      "[]\n",
      "[]\n"
     ]
    }
   ],
   "source": [
    "ask_siri = Siri_Trie()\n",
    "\n",
    "ask_siri.add_concept(\"hi\")\n",
    "ask_siri.add_concept(\"hello sir\")\n",
    "print(ask_siri.search(\"hi\"))\n",
    "print(ask_siri.search(\"hello sir this is me hi\"))\n",
    "print(ask_siri.search(\"hello\"))\n",
    "print(ask_siri.search(\"hey\"))\n"
   ]
  },
  {
   "cell_type": "code",
   "execution_count": 38,
   "metadata": {},
   "outputs": [],
   "source": [
    "# # import igraph\n",
    "# # print(igraph.__version__)\n",
    "\n",
    "# from igraph import *\n",
    "\n",
    "# class Siri_Trie_graph:\n",
    "#     def __init__(self):\n",
    "#         self.c = 0  # counter\n",
    "#         self.g = Graph()  # the graph of characters\n",
    "#         self.g.add_vertices(0)\n",
    "        \n",
    "        \n",
    "#     ## This function adds new words to the dictionary\n",
    "#     def add(self, word):\n",
    "#         print(self.g)\n",
    "#         for ch in word:\n",
    "#             print(ch)\n",
    "        \n",
    "# #         cur = self.head\n",
    "# #         for ch in word:\n",
    "# #             if ch not in cur:   cur[ch] = {}\n",
    "# #             cur = cur[ch]\n",
    "# #         # I use the .. to indicate the end of a word at this character\n",
    "# #         # The use of a double dot (..) is based on the fact that we only use one char at a time\n",
    "# #         # so there can be no two dots, which prevents the mis-classification of the end of a word\n",
    "# #         cur['..'] = True"
   ]
  },
  {
   "cell_type": "code",
   "execution_count": 39,
   "metadata": {},
   "outputs": [
    {
     "name": "stdout",
     "output_type": "stream",
     "text": [
      "IGRAPH U--- 0 0 --\n",
      "h\n",
      "e\n",
      "l\n",
      "l\n",
      "o\n"
     ]
    }
   ],
   "source": [
    "\n",
    "ask_siri = Siri_Trie_graph()\n",
    "ask_siri.add(\"hello\")"
   ]
  },
  {
   "cell_type": "code",
   "execution_count": 12,
   "metadata": {},
   "outputs": [],
   "source": [
    "\n",
    "\n",
    "#You can assume that there will be at most 20 words in the input string and that the words are \n",
    "# separated by one or more whitespace characters. Any punctuation in the input should be treated \n",
    "# as not significant.\n",
    "\n",
    "# Note that the list of concepts to check against could run into the millions.\n",
    "\n"
   ]
  },
  {
   "cell_type": "code",
   "execution_count": 13,
   "metadata": {},
   "outputs": [],
   "source": [
    "# Please return your solution in the form of an archive (zip, tar etc.). When submitting please\n",
    "# return all your code (including any automated tests you might have developed) along with\n",
    "# documentation you feel might be appropriate. It should be easy for us to compile, run and verify\n",
    "# the correctness of your solution."
   ]
  },
  {
   "cell_type": "code",
   "execution_count": null,
   "metadata": {},
   "outputs": [],
   "source": [
    "# Try to estimate the computational complexity of your\n",
    "# solution and indicate this in your documentation. You should also briefly highlight any aspects\n",
    "# that could affect accuracy, speed, scalability or reliability of your solution should it be taken into\n",
    "# a live production environment.\n",
    "\n",
    "# https://www.youtube.com/watch?v=o6563NNbdtg"
   ]
  }
 ],
 "metadata": {
  "kernelspec": {
   "display_name": "Python 3",
   "language": "python",
   "name": "python3"
  },
  "language_info": {
   "codemirror_mode": {
    "name": "ipython",
    "version": 3
   },
   "file_extension": ".py",
   "mimetype": "text/x-python",
   "name": "python",
   "nbconvert_exporter": "python",
   "pygments_lexer": "ipython3",
   "version": "3.6.5"
  }
 },
 "nbformat": 4,
 "nbformat_minor": 2
}
